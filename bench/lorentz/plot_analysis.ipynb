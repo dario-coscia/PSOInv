{
 "cells": [
  {
   "cell_type": "code",
   "execution_count": 1,
   "id": "47b8460e-8ce7-4535-a22c-fba7af17f815",
   "metadata": {},
   "outputs": [],
   "source": [
    "import numpy as np\n",
    "from scipy.integrate import solve_ivp"
   ]
  },
  {
   "cell_type": "code",
   "execution_count": 2,
   "id": "c97cdf45-a5ad-4985-a0b2-5f7d1a666b35",
   "metadata": {},
   "outputs": [],
   "source": [
    "def load_state(file_name):\n",
    "    \"\"\"Utility function to load PSO Object\n",
    "\n",
    "    :param file_name: .pkl file where PSO Object is saved\n",
    "    :type file_name: str\n",
    "    :return: pso object\n",
    "    :rtype: PSO\n",
    "    \"\"\"\n",
    "    import dill\n",
    "    return dill.load(open(file_name, \"rb\"))\n",
    "\n",
    "# Lorenz paramters and initial conditions.\n",
    "sigma, beta, rho = 10, 2.667, 28\n",
    "u0, v0, w0 = 0, 1, 1.05\n",
    "tmax = 10\n",
    "\n",
    "\n",
    "\n",
    "def lorenz(t, X, sigma, beta, rho):\n",
    "    \"\"\"The Lorenz equations.\"\"\"\n",
    "    u, v, w = X\n",
    "    up = - sigma * (u - v)\n",
    "    vp = rho * u - v - u * w\n",
    "    wp = -beta * w + u * v\n",
    "    return up, vp, wp\n",
    "\n",
    "\n",
    "def solve_lorenz(lorenz, tmax, u0, v0, w0, sigma, beta, rho, n=1000):\n",
    "    \"\"\"Solving lorenz equation.\"\"\"\n",
    "    soln = solve_ivp(lorenz, (0, tmax), (u0, v0, w0), args=(sigma, beta, rho),\n",
    "                     dense_output=True)\n",
    "    t = np.linspace(0, tmax, n)\n",
    "    x, y, z = soln.sol(t)\n",
    "    return (x, y, z, t)\n",
    "\n",
    "\n",
    "def create_data(tmax, u0, v0, w0, sigma, beta):\n",
    "    (x, y, z, t) = solve_lorenz(lorenz, tmax, u0, v0, w0, sigma, beta, rho)\n",
    "    return (x, y, z, t)\n",
    "\n",
    "\n",
    "# creating data\n",
    "data = create_data(tmax, u0, v0, w0, sigma, beta)"
   ]
  },
  {
   "cell_type": "code",
   "execution_count": 4,
   "id": "dcc90442-287e-4f83-b883-b4958aa497ef",
   "metadata": {},
   "outputs": [],
   "source": [
    "pso1 = load_state(\"lorenz_1.pkl\") \n",
    "pso5 = load_state(\"lorenz_5.pkl\")  \n",
    "pso10 = load_state(\"lorenz_10.pkl\") \n",
    "pso25 = load_state(\"lorenz_25.pkl\") \n",
    "pso50 = load_state(\"lorenz_50.pkl\") \n",
    "psoS = [pso1, pso5, pso10, pso25, pso50]"
   ]
  },
  {
   "cell_type": "code",
   "execution_count": 7,
   "id": "38f4e664-29f0-41b4-a200-c3937a2cbae2",
   "metadata": {},
   "outputs": [
    {
     "name": "stdout",
     "output_type": "stream",
     "text": [
      "[3.73374903e-05 1.73711266e-05 5.70329431e-05] [0.00203832]\n",
      "[2.19807556e-05 1.33589674e-05 2.63525502e-06] [0.00721235]\n",
      "[0.91659403 0.36664861 0.98145392] [170.69575015]\n",
      "[0.26354619 0.03562496 2.29595837] [994.98644906]\n",
      "[15.23683871  1.16637518  5.59271271] [1823.61316596]\n"
     ]
    }
   ],
   "source": [
    "for pso in psoS:\n",
    "    print(np.abs(pso.global_best_position-(sigma, beta, rho)), pso.global_best_value)"
   ]
  },
  {
   "cell_type": "code",
   "execution_count": null,
   "id": "dee99987-b7f8-4f23-965a-ca602914115b",
   "metadata": {},
   "outputs": [],
   "source": []
  }
 ],
 "metadata": {
  "kernelspec": {
   "display_name": "Python 3 (ipykernel)",
   "language": "python",
   "name": "python3"
  },
  "language_info": {
   "codemirror_mode": {
    "name": "ipython",
    "version": 3
   },
   "file_extension": ".py",
   "mimetype": "text/x-python",
   "name": "python",
   "nbconvert_exporter": "python",
   "pygments_lexer": "ipython3",
   "version": "3.9.0"
  }
 },
 "nbformat": 4,
 "nbformat_minor": 5
}
